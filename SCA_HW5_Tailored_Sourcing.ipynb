{
  "nbformat": 4,
  "nbformat_minor": 0,
  "metadata": {
    "colab": {
      "provenance": [],
      "authorship_tag": "ABX9TyPG38bxx9ovOeuc11XTkzO5",
      "include_colab_link": true
    },
    "kernelspec": {
      "name": "python3",
      "display_name": "Python 3"
    },
    "language_info": {
      "name": "python"
    }
  },
  "cells": [
    {
      "cell_type": "markdown",
      "metadata": {
        "id": "view-in-github",
        "colab_type": "text"
      },
      "source": [
        "<a href=\"https://colab.research.google.com/github/yvt-h/SCA_SOP/blob/main/SCA_HW5_Tailored_Sourcing.ipynb\" target=\"_parent\"><img src=\"https://colab.research.google.com/assets/colab-badge.svg\" alt=\"Open In Colab\"/></a>"
      ]
    },
    {
      "cell_type": "markdown",
      "source": [
        "Find annual operational cost (holding + ordering) for the optimal sourcing strategy if:\n",
        "1. Products are sourced independently"
      ],
      "metadata": {
        "id": "0PDgI1a44vG9"
      }
    },
    {
      "cell_type": "code",
      "source": [
        "from math import sqrt\n",
        "\n",
        "products={\n",
        "    1: {'D': 1000, 'S': 100, 's': 10, 'C': 50, 'h': 0.2},\n",
        "    2: {'D': 300, 'S': 100, 's': 20, 'C': 60, 'h': 0.2},\n",
        "    3: {'D': 100, 'S': 100, 's': 25, 'C': 30, 'h': 0.2},\n",
        "    4: {'D': 50, 'S': 100, 's': 25, 'C': 30, 'h': 0.2}\n",
        "}\n",
        "\n",
        "results = {}\n",
        "total_TC = 0\n",
        "\n",
        "for product, details in products.items():\n",
        "    D, S, s, C, h = details['D'], details['S'], details['s'], details['C'], details['h']\n",
        "    Q = sqrt((2 * D * (S+s)) / (C * h))\n",
        "    n = D / Q\n",
        "    TC = (D * (S+s) / Q) + (Q * C * h / 2)\n",
        "    total_TC += TC\n",
        "    results[product] = {'Optimal Lot Size': Q, 'Order Frequency': n, 'Cost': TC}\n",
        "\n",
        "results"
      ],
      "metadata": {
        "colab": {
          "base_uri": "https://localhost:8080/"
        },
        "id": "LO6VxZJH1vZ0",
        "outputId": "5f72c178-63f3-4cb7-ea86-24a62e058dd3"
      },
      "execution_count": 1,
      "outputs": [
        {
          "output_type": "execute_result",
          "data": {
            "text/plain": [
              "{1: {'Optimal Lot Size': 148.32396974191326,\n",
              "  'Order Frequency': 6.741998624632421,\n",
              "  'Cost': 1483.2396974191327},\n",
              " 2: {'Optimal Lot Size': 77.45966692414834,\n",
              "  'Order Frequency': 3.872983346207417,\n",
              "  'Cost': 929.51600308978},\n",
              " 3: {'Optimal Lot Size': 64.54972243679029,\n",
              "  'Order Frequency': 1.5491933384829666,\n",
              "  'Cost': 387.2983346207417},\n",
              " 4: {'Optimal Lot Size': 45.64354645876384,\n",
              "  'Order Frequency': 1.0954451150103321,\n",
              "  'Cost': 273.8612787525831}}"
            ]
          },
          "metadata": {},
          "execution_count": 1
        }
      ]
    },
    {
      "cell_type": "code",
      "source": [
        "print('Annual Operational Cost:', total_TC)"
      ],
      "metadata": {
        "colab": {
          "base_uri": "https://localhost:8080/"
        },
        "id": "kJldmXK3BGsX",
        "outputId": "c446aa20-024a-4669-e629-9b70790f232f"
      },
      "execution_count": 2,
      "outputs": [
        {
          "output_type": "stream",
          "name": "stdout",
          "text": [
            "Annual Operational Cost: 3073.9153138822376\n"
          ]
        }
      ]
    },
    {
      "cell_type": "markdown",
      "source": [
        "2. All four products are sourced with the same frequency"
      ],
      "metadata": {
        "id": "B4fsFZRr48Rx"
      }
    },
    {
      "cell_type": "code",
      "source": [
        "from typing import no_type_check_decorator\n",
        "# Calculating aggregated values\n",
        "s_total = 100 + sum(product['s'] for product in products.values())\n",
        "sum_DCh = sum(product['D'] * product['C'] * product['h'] for product in products.values())\n",
        "\n",
        "# Ordering Cost\n",
        "n = sqrt((sum_DCh) / (2 * s_total))\n",
        "total_cost_order = n * s_total\n",
        "\n",
        "# Holding Cost\n",
        "results = {}\n",
        "total_cost_holding = 0\n",
        "\n",
        "for product, details in products.items():\n",
        "    D, S, s, C, h = details['D'], details['S'], details['s'], details['C'], details['h']\n",
        "    Q = D / n\n",
        "    Cost_holding = C * h * Q / 2\n",
        "    total_cost_holding += Cost_holding\n",
        "    results[product] = {'Optimal Lot Size': Q, 'Order Frequency': n, 'Holding Cost': Cost_holding}\n",
        "\n",
        "results"
      ],
      "metadata": {
        "colab": {
          "base_uri": "https://localhost:8080/"
        },
        "id": "1X6j-srL4_PR",
        "outputId": "38adda12-a109-4578-ca2a-103892b0b73d"
      },
      "execution_count": 3,
      "outputs": [
        {
          "output_type": "execute_result",
          "data": {
            "text/plain": [
              "{1: {'Optimal Lot Size': 157.56771943166706,\n",
              "  'Order Frequency': 6.346477588219924,\n",
              "  'Holding Cost': 787.8385971583352},\n",
              " 2: {'Optimal Lot Size': 47.27031582950012,\n",
              "  'Order Frequency': 6.346477588219924,\n",
              "  'Holding Cost': 283.6218949770007},\n",
              " 3: {'Optimal Lot Size': 15.756771943166706,\n",
              "  'Order Frequency': 6.346477588219924,\n",
              "  'Holding Cost': 47.27031582950012},\n",
              " 4: {'Optimal Lot Size': 7.878385971583353,\n",
              "  'Order Frequency': 6.346477588219924,\n",
              "  'Holding Cost': 23.63515791475006}}"
            ]
          },
          "metadata": {},
          "execution_count": 3
        }
      ]
    },
    {
      "cell_type": "code",
      "source": [
        "total_TC = total_cost_order + total_cost_holding\n",
        "print('Annual Operational Cost:', total_TC)"
      ],
      "metadata": {
        "colab": {
          "base_uri": "https://localhost:8080/"
        },
        "id": "KR9aGYXng7AP",
        "outputId": "45e44ae7-9551-4306-f163-92c68f0c7ba6"
      },
      "execution_count": 4,
      "outputs": [
        {
          "output_type": "stream",
          "name": "stdout",
          "text": [
            "Annual Operational Cost: 2284.7319317591723\n"
          ]
        }
      ]
    },
    {
      "cell_type": "markdown",
      "source": [
        "3. Order frequencies are determined according to the tailored aggregation strategy"
      ],
      "metadata": {
        "id": "ZKLz8K-F4_np"
      }
    },
    {
      "cell_type": "markdown",
      "source": [
        "1. Identify most frequently ordered product (assume independent\n",
        "ordering): That would be product 1.\n",
        "2. For all products other than 1 recompute frequencies using only\n",
        "product specific ordering costs (i.e., use s, and set S=0)\n",
        "❑ These would be 7.7 for Medpro and 2.4 for Heavypro\n",
        "3. Identify frequency of other products as a multiple 𝑚𝑖 (assume only\n",
        "product specific fixed cost) and round up\n",
        "❑ mMedpro = roundup(11.0/7.7)=2, mHeavypro = roundup(11/2.4)=5\n",
        "❑ Hence order Medpro every other time and Heavypro every 5th time\n",
        "4. Recalculate ordering frequency n of most frequently ordered\n",
        "product\n",
        "5. Identify ordering frequency of all products, using 𝑛 and 𝑚𝑖"
      ],
      "metadata": {
        "id": "woJ0mwdHBbmK"
      }
    },
    {
      "cell_type": "code",
      "source": [
        "from math import ceil\n",
        "\n",
        "# Max Frequency - Product 1 - 6.74 From Question 1\n",
        "results = {}\n",
        "\n",
        "for product, details in products.items():\n",
        "  if product > 1:\n",
        "    D, S, s, C, h = details['D'], details['S'], details['s'], details['C'], details['h']\n",
        "    Q = sqrt((2 * D * (s)) / (C * h))\n",
        "    n = D / Q\n",
        "    m = ceil(6.74 / n)\n",
        "    results[product] = {'Order Frequency': n, 'Order Frequency as as multiple of m': m}\n",
        "\n",
        "results"
      ],
      "metadata": {
        "colab": {
          "base_uri": "https://localhost:8080/"
        },
        "id": "yyu2TKW_5CKz",
        "outputId": "780faf61-eeeb-4800-8342-da39ca846312"
      },
      "execution_count": 5,
      "outputs": [
        {
          "output_type": "execute_result",
          "data": {
            "text/plain": [
              "{2: {'Order Frequency': 9.486832980505138,\n",
              "  'Order Frequency as as multiple of m': 1},\n",
              " 3: {'Order Frequency': 3.464101615137755,\n",
              "  'Order Frequency as as multiple of m': 2},\n",
              " 4: {'Order Frequency': 2.449489742783178,\n",
              "  'Order Frequency as as multiple of m': 3}}"
            ]
          },
          "metadata": {},
          "execution_count": 5
        }
      ]
    },
    {
      "cell_type": "code",
      "source": [
        "# Add m in products\n",
        "m_values = [1, 1, 2, 3]\n",
        "for product_id, m_value in zip(products.keys(), m_values):\n",
        "    products[product_id]['m'] = m_value\n",
        "\n",
        "# New Order Frequency\n",
        "n_1 = sqrt(sum(product['D'] * product['C'] * product['h'] * product['m'] for product in products.values())/ (2 * (products[1]['S'] + sum(product['s'] / product['m'] for product in products.values()))))\n",
        "\n",
        "for product_id in products:\n",
        "    if product_id in [1, 2]:\n",
        "        products[product_id]['n'] = n_1\n",
        "    elif product_id == 3:\n",
        "        products[product_id]['n'] = n_1/2\n",
        "    elif product_id == 4:\n",
        "        products[product_id]['n'] = n_1/3\n",
        "\n",
        "s_total = 100 + sum(product['s'] / product['m'] for product in products.values())\n",
        "total_cost_order = n_1 * s_total\n",
        "\n",
        "results = {}\n",
        "total_cost_holding = 0\n",
        "\n",
        "for product, details in products.items():\n",
        "    D, S, s, C, h, n = details['D'], details['S'], details['s'], details['C'], details['h'], details['n']\n",
        "    Q = D / n\n",
        "    Cost_holding = C * h * Q / 2\n",
        "    total_cost_holding += Cost_holding\n",
        "    results[product] = {'Optimal Lot Size': Q, 'Order Frequency': n, 'Holding Cost': Cost_holding}\n",
        "\n",
        "results"
      ],
      "metadata": {
        "id": "4FHWsqtPE0dQ",
        "colab": {
          "base_uri": "https://localhost:8080/"
        },
        "outputId": "26261cbe-b792-4590-f253-fe81cd48cb0d"
      },
      "execution_count": 6,
      "outputs": [
        {
          "output_type": "execute_result",
          "data": {
            "text/plain": [
              "{1: {'Optimal Lot Size': 138.61615117764455,\n",
              "  'Order Frequency': 7.21416654195255,\n",
              "  'Holding Cost': 693.0807558882227},\n",
              " 2: {'Optimal Lot Size': 41.58484535329337,\n",
              "  'Order Frequency': 7.21416654195255,\n",
              "  'Holding Cost': 249.50907211976022},\n",
              " 3: {'Optimal Lot Size': 27.723230235528913,\n",
              "  'Order Frequency': 3.607083270976275,\n",
              "  'Holding Cost': 83.16969070658674},\n",
              " 4: {'Optimal Lot Size': 20.792422676646687,\n",
              "  'Order Frequency': 2.40472218065085,\n",
              "  'Holding Cost': 62.37726802994006}}"
            ]
          },
          "metadata": {},
          "execution_count": 6
        }
      ]
    },
    {
      "cell_type": "code",
      "source": [
        "total_TC = total_cost_order + total_cost_holding\n",
        "print('Annual Operational Cost:', total_TC)"
      ],
      "metadata": {
        "colab": {
          "base_uri": "https://localhost:8080/"
        },
        "id": "uSWKjXyvlaXl",
        "outputId": "d3def9cd-7d5c-48f7-9df0-07e371c3f8f9"
      },
      "execution_count": 7,
      "outputs": [
        {
          "output_type": "stream",
          "name": "stdout",
          "text": [
            "Annual Operational Cost: 2176.2735734890193\n"
          ]
        }
      ]
    }
  ]
}